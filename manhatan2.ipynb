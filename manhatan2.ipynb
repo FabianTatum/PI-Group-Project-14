{
 "cells": [
  {
   "cell_type": "code",
   "execution_count": null,
   "metadata": {},
   "outputs": [],
   "source": [
    "#importar librerias\n",
    "import requests"
   ]
  },
  {
   "cell_type": "code",
   "execution_count": null,
   "metadata": {},
   "outputs": [],
   "source": [
    "# Leer la apiKey para la API\n",
    "apiKey = input()"
   ]
  },
  {
   "cell_type": "code",
   "execution_count": null,
   "metadata": {},
   "outputs": [],
   "source": [
    "#Manhattan, New York City, NY, USA (40.776676, -73.971321)\n",
    "#Brooklyn, New York City, NY, USA (40.650002, -73.949997)\n",
    "#Bronx, New York City, NY, USA (40.837048, -73.865433)\n",
    "#Queens, New York City, NY, USA (40.742054, -73.769417)\n",
    "#Staten Island, New York City, NY, USA (40.579021, -74.151535)"
   ]
  },
  {
   "cell_type": "code",
   "execution_count": null,
   "metadata": {},
   "outputs": [],
   "source": [
    "# Seleccionar la region a descargar\n",
    "option = input()\n",
    "option = int(option)\n",
    "name_file = ''\n",
    "if option == 1:\n",
    "    borough = '40.776676, -73.971321'\n",
    "    name_file = 'manhatan1.json'\n",
    "if option == 2:\n",
    "    borough = '40.650002, -73.949997'\n",
    "    name_file = 'brooklyn1.json'\n",
    "if option == 3:\n",
    "    borough = '40.837048, -73.865433'\n",
    "    name_file = 'bronx1.json'\n",
    "if option == 4:\n",
    "    borough = '40.742054, -73.769417'\n",
    "    name_file = 'queens1.json'\n",
    "if option == 5:\n",
    "    borough = '40.579021, -74.151535'\n",
    "    name_file = 'state_island1.json'"
   ]
  },
  {
   "cell_type": "code",
   "execution_count": null,
   "metadata": {},
   "outputs": [],
   "source": [
    "borough = borough.split(' ')"
   ]
  },
  {
   "cell_type": "code",
   "execution_count": null,
   "metadata": {},
   "outputs": [],
   "source": [
    "url = \"https://meteostat.p.rapidapi.com/point/hourly\"\n",
    "\n",
    "querystring = {\"lat\":borough[0],\"lon\":borough[1],\"start\":\"2020-01-21\",\"end\":\"2020-02-01\",\"tz\":\"America/New_York\",\"freq\":\"H\"}\n",
    "\n",
    "headers = {\n",
    "\t\"X-RapidAPI-Key\": apiKey,\n",
    "\t\"X-RapidAPI-Host\": \"meteostat.p.rapidapi.com\"\n",
    "}"
   ]
  },
  {
   "cell_type": "code",
   "execution_count": null,
   "metadata": {},
   "outputs": [],
   "source": [
    "# Hacer la llamada a la API\n",
    "response = requests.request(\"GET\", url, headers=headers, params=querystring)"
   ]
  },
  {
   "cell_type": "code",
   "execution_count": null,
   "metadata": {},
   "outputs": [],
   "source": [
    "# Crear el json\n",
    "file = open(name_file, 'w')\n",
    "file.write(response.text)\n",
    "file.close()"
   ]
  },
  {
   "cell_type": "code",
   "execution_count": null,
   "metadata": {},
   "outputs": [],
   "source": []
  }
 ],
 "metadata": {
  "language_info": {
   "name": "python"
  },
  "orig_nbformat": 4
 },
 "nbformat": 4,
 "nbformat_minor": 2
}
