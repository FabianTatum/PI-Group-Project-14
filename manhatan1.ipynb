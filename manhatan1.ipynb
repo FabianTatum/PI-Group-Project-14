{
 "cells": [
  {
   "cell_type": "code",
   "execution_count": null,
   "metadata": {},
   "outputs": [],
   "source": [
    "#importar librerias\n",
    "import requests\n",
    "import json\n",
    "import pandas as pd"
   ]
  },
  {
   "cell_type": "code",
   "execution_count": null,
   "metadata": {},
   "outputs": [],
   "source": [
    "# Leer la apiKey para la API\n",
    "apiKey = input()"
   ]
  },
  {
   "cell_type": "code",
   "execution_count": null,
   "metadata": {},
   "outputs": [],
   "source": [
    "#Manhattan, New York City, NY, USA (40.776676, -73.971321)\n",
    "#Brooklyn, New York City, NY, USA (40.650002, -73.949997)\n",
    "#Bronx, New York City, NY, USA (40.837048, -73.865433)\n",
    "#Queens, New York City, NY, USA (40.742054, -73.769417)\n",
    "#Staten Island, New York City, NY, USA (40.579021, -74.151535)"
   ]
  },
  {
   "cell_type": "code",
   "execution_count": null,
   "metadata": {},
   "outputs": [],
   "source": [
    "# Seleccionar la region a descargar\n",
    "option = input()\n",
    "option = int(option)\n",
    "name_file = ''\n",
    "if option == 1:\n",
    "    borough = '40.776676, -73.971321'\n",
    "    name_file = 'manhatan1.json'\n",
    "if option == 2:\n",
    "    borough = '40.650002, -73.949997'\n",
    "    name_file = 'brooklyn1.json'\n",
    "if option == 3:\n",
    "    borough = '40.837048, -73.865433'\n",
    "    name_file = 'bronx1.json'\n",
    "if option == 4:\n",
    "    borough = '40.742054, -73.769417'\n",
    "    name_file = 'queens1.json'\n",
    "if option == 5:\n",
    "    borough = '40.579021, -74.151535'\n",
    "    name_file = 'state_island1.json'"
   ]
  },
  {
   "cell_type": "code",
   "execution_count": null,
   "metadata": {},
   "outputs": [],
   "source": [
    "url = \"https://visual-crossing-weather.p.rapidapi.com/history\"\n",
    "\n",
    "querystring = {\"startDateTime\":\"2018-01-01T00:00:00\",\"aggregateHours\":\"1\",\n",
    "    \"location\":borough,\"endDateTime\":\"2018-01-21T00:00:00\",\n",
    "    \"unitGroup\":\"metric\",\"contentType\":\"json\",\"shortColumnNames\":\"0\"}\n",
    "\n",
    "headers = {\n",
    "\t\"X-RapidAPI-Key\": apiKey,\n",
    "\t\"X-RapidAPI-Host\": \"visual-crossing-weather.p.rapidapi.com\"\n",
    "}"
   ]
  },
  {
   "cell_type": "code",
   "execution_count": null,
   "metadata": {},
   "outputs": [],
   "source": [
    "# Hacer la llamada a la API\n",
    "response = requests.request(\"GET\", url, headers=headers, params=querystring)"
   ]
  },
  {
   "cell_type": "code",
   "execution_count": null,
   "metadata": {},
   "outputs": [],
   "source": [
    "# Crear el json\n",
    "file = open(name_file, 'w')\n",
    "file.write(response.text)\n",
    "file.close()"
   ]
  },
  {
   "cell_type": "code",
   "execution_count": null,
   "metadata": {},
   "outputs": [],
   "source": []
  }
 ],
 "metadata": {
  "language_info": {
   "name": "python"
  },
  "orig_nbformat": 4
 },
 "nbformat": 4,
 "nbformat_minor": 2
}
